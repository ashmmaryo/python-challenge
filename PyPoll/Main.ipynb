{
 "cells": [
  {
   "cell_type": "code",
   "execution_count": 1,
   "id": "bf1a9c79",
   "metadata": {},
   "outputs": [
    {
     "name": "stdout",
     "output_type": "stream",
     "text": [
      "Election Results\n",
      "--------------------------\n",
      "Total Votes: 369711\n",
      "--------------------------\n",
      "Charles Casper Stockham : 23.049%, 85213\n",
      "Diana DeGette : 73.812%, 272892\n",
      "Raymon Anthony Doane : 3.139%, 11606\n",
      "--------------------------\n",
      "Winner: Diana DeGette\n",
      "--------------------------\n"
     ]
    }
   ],
   "source": [
    "import os\n",
    "import csv\n",
    "\n",
    "\n",
    "#Variables\n",
    "total_votes = 0 #total votes cast\n",
    "candidate_list = []\n",
    "#percent_votes_candidate = 0\n",
    "candidate_votes = {}\n",
    "winner = \"\"\n",
    "win_votes = 0\n",
    "win_percent = 0\n",
    "\n",
    "#import csv file from computer\n",
    "polldata_csv = os.path.join(\"Resources\", \"election_data.csv\")\n",
    "\n",
    "#open csv file\n",
    "with open(polldata_csv) as csv_file:\n",
    "    csv_reader = csv.reader(csv_file, delimiter=\",\")\n",
    "    csv_header = next(csv_file)\n",
    "    \n",
    "\n",
    "    #loop through csv\n",
    "    for row in csv_reader:\n",
    "        total_votes +=1\n",
    "        candidate_name = row[2]\n",
    "\n",
    "        #create list of candidates and votes per candidate\n",
    "        if candidate_name not in candidate_list:\n",
    "            candidate_list.append(candidate_name)\n",
    "            candidate_votes[candidate_name]= 0\n",
    "        candidate_votes[candidate_name]+=1\n",
    "\n",
    "    output_candidates = \"\"    \n",
    "    #percentage of votes per candidate\n",
    "    for name in candidate_votes:\n",
    "        votes = candidate_votes[name]\n",
    "        percentage = votes / total_votes\n",
    "        percent = round(percentage *100 ,3)\n",
    "        output_candidates += f\"{name} : {percent}%, {votes}\\n\"\n",
    "        #find winner\n",
    "        if votes > win_votes:\n",
    "            win_votes = votes\n",
    "            winner = name\n",
    "    \n",
    "    output_text = (      \n",
    "    f\"Election Results\\n\"    \n",
    "    f\"--------------------------\\n\"\n",
    "    f\"Total Votes: {total_votes}\\n\" \n",
    "    f\"--------------------------\\n\"\n",
    "    f\"{output_candidates}\"\n",
    "    f\"--------------------------\\n\"\n",
    "    f\"Winner: {winner}\\n\"\n",
    "    f\"--------------------------\\n\"\n",
    "    )\n",
    "    print(output_text, end=\"\")\n",
    "\n",
    "#output file to Analysis folder\n",
    "output_file = os.path.join(\"Analysis\", \"Election_Analysis.txt\")\n",
    "with open(output_file, \"w\") as results:\n",
    "    results.write(output_text)"
   ]
  },
  {
   "cell_type": "code",
   "execution_count": null,
   "id": "de8f9499",
   "metadata": {},
   "outputs": [],
   "source": []
  }
 ],
 "metadata": {
  "kernelspec": {
   "display_name": "Python 3 (ipykernel)",
   "language": "python",
   "name": "python3"
  },
  "language_info": {
   "codemirror_mode": {
    "name": "ipython",
    "version": 3
   },
   "file_extension": ".py",
   "mimetype": "text/x-python",
   "name": "python",
   "nbconvert_exporter": "python",
   "pygments_lexer": "ipython3",
   "version": "3.11.5"
  }
 },
 "nbformat": 4,
 "nbformat_minor": 5
}
